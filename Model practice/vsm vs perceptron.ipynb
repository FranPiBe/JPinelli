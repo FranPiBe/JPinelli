{
 "cells": [
  {
   "cell_type": "code",
   "execution_count": 4,
   "id": "2b39c45a",
   "metadata": {},
   "outputs": [
    {
     "name": "stdout",
     "output_type": "stream",
     "text": [
      "Precisión del Voted Perceptron: 0.5333333333333333\n",
      "Precisión del Support Vector Machine: 0.6666666666666666\n"
     ]
    }
   ],
   "source": [
    "from sklearn.datasets import load_iris\n",
    "from sklearn.model_selection import train_test_split\n",
    "from sklearn.svm import SVC\n",
    "from sklearn.metrics import accuracy_score\n",
    "from sklearn.preprocessing import StandardScaler\n",
    "from sklearn.linear_model import Perceptron\n",
    "import numpy as np\n",
    "\n",
    "# Cargar el conjunto de datos Iris\n",
    "data = load_iris()\n",
    "X = data.data\n",
    "y = data.target\n",
    "\n",
    "# Dividir el conjunto de datos en entrenamiento y prueba\n",
    "X_train, X_test, y_train, y_test = train_test_split(X, y, test_size=0.2, random_state=42)\n",
    "\n",
    "# Escalar las características para SVM con RBF\n",
    "scaler = StandardScaler()\n",
    "X_train_scaled = scaler.fit_transform(X_train)\n",
    "X_test_scaled = scaler.transform(X_test)\n",
    "\n",
    "# Entrenar el Voted Perceptron\n",
    "v_perc = VotedPerceptron(n_iter=1000)\n",
    "v_perc.fit(X_train, y_train)\n",
    "\n",
    "# Entrenar SVM con RBF\n",
    "svm_rbf = SVC(kernel='rbf')\n",
    "svm_rbf.fit(X_train_scaled, y_train)\n",
    "\n",
    "# Realizar predicciones\n",
    "y_pred_voted_perceptron = v_perc.predict(X_test_scaled)\n",
    "y_pred_svm_rbf = svm_rbf.predict(X_test_scaled)\n",
    "\n",
    "# Calcular la precisión de ambos modelos\n",
    "accuracy_voted_perceptron = accuracy_score(y_test, y_pred_voted_perceptron)\n",
    "accuracy_svm_rbf = accuracy_score(y_test, y_pred_svm_rbf)\n",
    "\n",
    "print(\"Precisión del Voted Perceptron:\", accuracy_voted_perceptron)\n",
    "print(\"Precisión del Support Vector Machine:\", accuracy_svm_rbf)\n"
   ]
  },
  {
   "cell_type": "code",
   "execution_count": 2,
   "id": "a4291640",
   "metadata": {},
   "outputs": [],
   "source": [
    "class VotedPerceptron:\n",
    "    def __init__(self, n_iter):\n",
    "        self.n_iter = n_iter\n",
    "        self.V = []\n",
    "        self.C = []\n",
    "        self.k = 0\n",
    "    \n",
    "    def fit(self, x, y):\n",
    "        for i in range(len(y)):\n",
    "            if y[i] == 0:\n",
    "                y[i] = -1\n",
    "        k = 0\n",
    "        v = [np.ones_like(x)[0]]\n",
    "        c = [0]\n",
    "        for epoch in range(self.n_iter): # runs through the data n_iter times\n",
    "            for i in range(len(x)):\n",
    "                pred = 1 if np.dot(v[k], x[i]) > 0 else -1 # checks the sing of v*k\n",
    "                if pred == y[i]: # checks if the prediction matches the real Y\n",
    "                    c[k] += 1 # increments c\n",
    "                else:\n",
    "                    v.append(np.add(v[k], np.dot(y[i], x[i])))\n",
    "                    c.append(1)\n",
    "                    k += 1\n",
    "        self.V = v\n",
    "        self.C = c\n",
    "        self.k = k\n",
    "\n",
    "    def predict(self, X):\n",
    "        preds = []\n",
    "        for x in X:\n",
    "            s = 0\n",
    "            for w,c in zip(self.V,self.C):\n",
    "                s = s + c*np.sign(np.dot(w,x))\n",
    "            preds.append(np.sign(1 if s>= 0 else 0))\n",
    "        return preds"
   ]
  }
 ],
 "metadata": {
  "kernelspec": {
   "display_name": "Python 3 (ipykernel)",
   "language": "python",
   "name": "python3"
  },
  "language_info": {
   "codemirror_mode": {
    "name": "ipython",
    "version": 3
   },
   "file_extension": ".py",
   "mimetype": "text/x-python",
   "name": "python",
   "nbconvert_exporter": "python",
   "pygments_lexer": "ipython3",
   "version": "3.10.9"
  }
 },
 "nbformat": 4,
 "nbformat_minor": 5
}
